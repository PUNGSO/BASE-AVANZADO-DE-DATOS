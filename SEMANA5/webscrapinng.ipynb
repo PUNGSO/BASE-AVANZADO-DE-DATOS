{
  "nbformat": 4,
  "nbformat_minor": 0,
  "metadata": {
    "colab": {
      "provenance": []
    },
    "kernelspec": {
      "name": "python3",
      "display_name": "Python 3"
    },
    "language_info": {
      "name": "python"
    }
  },
  "cells": [
    {
      "cell_type": "code",
      "execution_count": null,
      "metadata": {
        "colab": {
          "base_uri": "https://localhost:8080/"
        },
        "id": "UQ4HFdKXguYF",
        "outputId": "0eeeb6c7-d713-4182-8c06-9620e665862a"
      },
      "outputs": [
        {
          "output_type": "stream",
          "name": "stdout",
          "text": [
            "Datos extraidos y guardados en diccionario_maya.json\n"
          ]
        }
      ],
      "source": [
        "import requests\n",
        "from bs4 import BeautifulSoup\n",
        "import json\n",
        "\n",
        "url = 'https://pueblosoriginarios.com/lenguas/mayas.php'\n",
        "\n",
        "response = requests.get(url)\n",
        "\n",
        "if response.status_code == 200:\n",
        "\n",
        "  soup = BeautifulSoup(response.text,'html.parser')\n",
        "\n",
        "  table = soup.find('table',{'id':'diccionario'})\n",
        "\n",
        "  rows = table.find_all('tr')\n",
        "\n",
        "  diccionario_data = []\n",
        "\n",
        "  for row in rows[1:]:\n",
        "    cols = row.find_all('td')\n",
        "\n",
        "    if len(cols) == 2:\n",
        "      maya_word = cols[0].text.strip()\n",
        "      spanish_word = cols[1].text.strip()\n",
        "      diccionario_data.append({'Maya':maya_word, 'Español':spanish_word})\n",
        "\n",
        "  json_data = json.dumps(diccionario_data, indent=4, ensure_ascii=False)\n",
        "\n",
        "  with open('diccionario_maya.json', 'w', encoding='utf-8') as file:\n",
        "    file.write(json_data)\n",
        "\n",
        "  print(\"Datos extraidos y guardados en diccionario_maya.json\")\n",
        "\n",
        "else:\n",
        "\n",
        "  print(\"error al conectarse a la web\")"
      ]
    },
    {
      "cell_type": "markdown",
      "source": [
        "  # PANDAS"
      ],
      "metadata": {
        "id": "xIis0t9qlxYZ"
      }
    },
    {
      "cell_type": "code",
      "source": [
        "import pandas as pd\n",
        "\n",
        "# Cargar klos datos desde el archivo json\n",
        "with open('diccionario_maya.json', 'r', encoding='utf-8') as file:\n",
        "  diccionario_data = json.load(file)\n",
        "\n",
        "# Crear un dataframe\n",
        "df = pd.DataFrame(diccionario_data)\n",
        "\n",
        "# Crear el excel a partir del DataFrame\n",
        "df.to_excel('diccionario_maya.xlsx', index=False)\n",
        "\n",
        "print(\"Datos guardados en el diccionario_maya.xlsx\")\n"
      ],
      "metadata": {
        "colab": {
          "base_uri": "https://localhost:8080/"
        },
        "id": "gRBz4yGRl0AE",
        "outputId": "5bd3e08e-a0ba-4360-fa18-a109d3f5f037"
      },
      "execution_count": null,
      "outputs": [
        {
          "output_type": "stream",
          "name": "stdout",
          "text": [
            "Datos guardados en el diccionario_maya.xlsx\n"
          ]
        }
      ]
    },
    {
      "cell_type": "code",
      "source": [
        "import pandas as pd\n",
        "import json\n",
        "\n",
        "# Cargar klos datos desde el archivo json\n",
        "with open('diccionario_maya.json', 'r', encoding='utf-8') as file:\n",
        "  diccionario_data = json.load(file)\n",
        "\n",
        "# Crear un dataframe\n",
        "df = pd.DataFrame(diccionario_data)\n",
        "\n",
        "# 1. Estadistica descriptiva\n",
        "descripcion_maya = df['Maya'].describe()\n",
        "descripcion_espanol = df['Español'].describe()\n",
        "\n",
        "print(\"Estadística descriptiva de las palabras Maya\")\n",
        "print(descripcion_maya)\n",
        "\n",
        "print(\"Estadística descriptiva de las palabras Español\")\n",
        "print(descripcion_espanol)\n",
        "\n",
        "# 2. Filtrar datos\n",
        "\n",
        "palabras_con_a = df[df['Maya'].str.startswith('a',na=False)]\n",
        "\n",
        "print(\"Palabras que comienzan con 'a' :\")\n",
        "print(palabras_con_a)\n",
        "\n",
        "# 3. Ordenar datos\n",
        "\n",
        "df_ordenado = df.sort_values(by='Maya',key=lambda x: x.str.len(), ascending=True)\n",
        "print(\"Palabras ordenadas:\")\n",
        "print(df_ordenado)\n",
        "\n",
        "# 4. Contar duplicados\n",
        "\n",
        "duplicados_maya = df[df.duplicated(subset='Maya', keep=False)]\n",
        "\n",
        "print(\"Palabras que se duplican en Maya\")\n",
        "print(duplicados_maya)"
      ],
      "metadata": {
        "id": "lK9q7fkNsmbX",
        "colab": {
          "base_uri": "https://localhost:8080/"
        },
        "outputId": "9ced215e-e931-4de2-82f1-52d4f3822769"
      },
      "execution_count": null,
      "outputs": [
        {
          "output_type": "stream",
          "name": "stdout",
          "text": [
            "Estadística descriptiva de las palabras Maya\n",
            "count      4425\n",
            "unique     3574\n",
            "top       ookol\n",
            "freq          9\n",
            "Name: Maya, dtype: object\n",
            "Estadística descriptiva de las palabras Español\n",
            "count      4425\n",
            "unique     4406\n",
            "top       sanar\n",
            "freq          2\n",
            "Name: Español, dtype: object\n",
            "Palabras que comienzan con 'a' :\n",
            "                         Maya        Español\n",
            "0                           a  tu (posesivo)\n",
            "1                           a           tuya\n",
            "2                           a           tuyo\n",
            "3                       a’ake       apellido\n",
            "4                        a’al       advertir\n",
            "..                        ...            ...\n",
            "143                   ayik’al           rico\n",
            "144              ayik’al máak        burgués\n",
            "145  ayik’al, halach wíinikil    aristócrata\n",
            "146                  ayim kay          catán\n",
            "147                  ayim kay    pejelagarto\n",
            "\n",
            "[99 rows x 2 columns]\n",
            "Palabras ordenadas:\n",
            "                                                   Maya            Español\n",
            "0                                                     a      tu (posesivo)\n",
            "1                                                     a               tuya\n",
            "2                                                     a               tuyo\n",
            "1272                                                 il             visión\n",
            "97                                                   ah  ah (interjección)\n",
            "...                                                 ...                ...\n",
            "3881  u meyah máako’ob ku meentko’ob ba’alobb yéetel...          artesanía\n",
            "3914  u ts’íibil ba’alo’ob ucha’an, ku meenta’al ti’...         monografía\n",
            "681   che’ ku ts’aik yáanal u xiik’ máak k’oha’an wá...             muleta\n",
            "3572  ts’íib ku bin táanil ti’ hunp’éel k’aaba’ tia’...      el (artículo)\n",
            "3884  u n’ukul tu’ux ku pahkúunsa’al he’; u n’ukul t...         incubadora\n",
            "\n",
            "[4425 rows x 2 columns]\n",
            "Palabras que se duplican en Maya\n",
            "                    Maya        Español\n",
            "0                      a  tu (posesivo)\n",
            "1                      a           tuya\n",
            "2                      a           tuyo\n",
            "4                   a’al       advertir\n",
            "5                   a’al       enunciar\n",
            "...                  ...            ...\n",
            "4403         yóol ts’oon           bala\n",
            "4404         yóol ts’oon       cartucho\n",
            "4405         yóol ts’oon       munición\n",
            "4416  yuum, taat, taatáa          padre\n",
            "4417  yuum, taat, taatáa           papá\n",
            "\n",
            "[1376 rows x 2 columns]\n"
          ]
        }
      ]
    },
    {
      "cell_type": "markdown",
      "source": [
        "ETL SCRIPT DE JSON A MYSQL"
      ],
      "metadata": {
        "id": "kDahOL8Ssa6U"
      }
    },
    {
      "cell_type": "code",
      "source": [
        "!pip install mysql.connector"
      ],
      "metadata": {
        "colab": {
          "base_uri": "https://localhost:8080/"
        },
        "id": "kjXQ83RosaTM",
        "outputId": "24c8dab5-a0da-42b7-c133-2f7d66716ac1"
      },
      "execution_count": null,
      "outputs": [
        {
          "output_type": "stream",
          "name": "stdout",
          "text": [
            "Collecting mysql.connector\n",
            "  Downloading mysql-connector-2.2.9.tar.gz (11.9 MB)\n",
            "\u001b[?25l     \u001b[90m━━━━━━━━━━━━━━━━━━━━━━━━━━━━━━━━━━━━━━━━\u001b[0m \u001b[32m0.0/11.9 MB\u001b[0m \u001b[31m?\u001b[0m eta \u001b[36m-:--:--\u001b[0m\r\u001b[2K     \u001b[91m━\u001b[0m\u001b[90m╺\u001b[0m\u001b[90m━━━━━━━━━━━━━━━━━━━━━━━━━━━━━━━━━━━━━━\u001b[0m \u001b[32m0.4/11.9 MB\u001b[0m \u001b[31m10.6 MB/s\u001b[0m eta \u001b[36m0:00:02\u001b[0m\r\u001b[2K     \u001b[91m━━━━━━━━━━━━━━━\u001b[0m\u001b[91m╸\u001b[0m\u001b[90m━━━━━━━━━━━━━━━━━━━━━━━━\u001b[0m \u001b[32m4.7/11.9 MB\u001b[0m \u001b[31m68.4 MB/s\u001b[0m eta \u001b[36m0:00:01\u001b[0m\r\u001b[2K     \u001b[91m━━━━━━━━━━━━━━━━━━━━━━━━━━━━━━━━\u001b[0m\u001b[90m╺\u001b[0m\u001b[90m━━━━━━━\u001b[0m \u001b[32m9.6/11.9 MB\u001b[0m \u001b[31m91.7 MB/s\u001b[0m eta \u001b[36m0:00:01\u001b[0m\r\u001b[2K     \u001b[91m━━━━━━━━━━━━━━━━━━━━━━━━━━━━━━━━━━━━━━━\u001b[0m\u001b[91m╸\u001b[0m \u001b[32m11.8/11.9 MB\u001b[0m \u001b[31m146.8 MB/s\u001b[0m eta \u001b[36m0:00:01\u001b[0m\r\u001b[2K     \u001b[91m━━━━━━━━━━━━━━━━━━━━━━━━━━━━━━━━━━━━━━━\u001b[0m\u001b[91m╸\u001b[0m \u001b[32m11.8/11.9 MB\u001b[0m \u001b[31m146.8 MB/s\u001b[0m eta \u001b[36m0:00:01\u001b[0m\r\u001b[2K     \u001b[90m━━━━━━━━━━━━━━━━━━━━━━━━━━━━━━━━━━━━━━━━\u001b[0m \u001b[32m11.9/11.9 MB\u001b[0m \u001b[31m77.3 MB/s\u001b[0m eta \u001b[36m0:00:00\u001b[0m\n",
            "\u001b[?25h  Preparing metadata (setup.py) ... \u001b[?25l\u001b[?25hdone\n",
            "Building wheels for collected packages: mysql.connector\n",
            "  Building wheel for mysql.connector (setup.py) ... \u001b[?25l\u001b[?25hdone\n",
            "  Created wheel for mysql.connector: filename=mysql_connector-2.2.9-cp310-cp310-linux_x86_64.whl size=247952 sha256=1126b1c4a813e168f74a6eb0d13d63f46e936806a9bfaf340eb4e6b638b978f5\n",
            "  Stored in directory: /root/.cache/pip/wheels/76/48/9b/da67ff1a18fe8e9d428f9b1a177716d4a7d363d2bbe83bf6cf\n",
            "Successfully built mysql.connector\n",
            "Installing collected packages: mysql.connector\n",
            "Successfully installed mysql.connector-2.2.9\n"
          ]
        }
      ]
    },
    {
      "cell_type": "code",
      "source": [
        "import mysql.connector\n",
        "import json\n",
        "\n",
        "# Conectar a la base de datos\n",
        "conn = mysql.connector.connect(\n",
        "    host=\"mysql-opset.alwaysdata.net\",\n",
        "    user=\"opset_us\",\n",
        "    password=\"Holamundo\",\n",
        "    database=\"opset_us\"\n",
        ")\n",
        "\n",
        "# Variable de consulta a la base de datos\n",
        "cursor = conn.cursor()\n",
        "\n",
        "# Cargar datos desde el archivo JSON\n",
        "with open('diccionario_maya.json','r',encoding='utf-8') as file:\n",
        "  diccionario_data = json.load(file)\n",
        "\n",
        "for palabra in diccionario_data:\n",
        "  maya = palabra['Maya']\n",
        "  espanol = palabra['Español']\n",
        "  insert_query = \"INSERT INTO diccionario_json (maya,espanol) VALUES(%s,%s)\"\n",
        "  cursor.execute(insert_query, (maya,espanol))\n",
        "\n",
        "conn.commit()\n",
        "cursor.close()\n",
        "conn.close()\n"
      ],
      "metadata": {
        "colab": {
          "base_uri": "https://localhost:8080/",
          "height": 399
        },
        "id": "Tt0U9OfHtF--",
        "outputId": "dfa73570-3019-45ce-cc5a-21f8bdbc32cf"
      },
      "execution_count": null,
      "outputs": [
        {
          "output_type": "error",
          "ename": "KeyboardInterrupt",
          "evalue": "",
          "traceback": [
            "\u001b[0;31m---------------------------------------------------------------------------\u001b[0m",
            "\u001b[0;31mKeyboardInterrupt\u001b[0m                         Traceback (most recent call last)",
            "\u001b[0;32m<ipython-input-8-d7beffeda59e>\u001b[0m in \u001b[0;36m<cell line: 19>\u001b[0;34m()\u001b[0m\n\u001b[1;32m     21\u001b[0m   \u001b[0mespanol\u001b[0m \u001b[0;34m=\u001b[0m \u001b[0mpalabra\u001b[0m\u001b[0;34m[\u001b[0m\u001b[0;34m'Español'\u001b[0m\u001b[0;34m]\u001b[0m\u001b[0;34m\u001b[0m\u001b[0;34m\u001b[0m\u001b[0m\n\u001b[1;32m     22\u001b[0m   \u001b[0minsert_query\u001b[0m \u001b[0;34m=\u001b[0m \u001b[0;34m\"INSERT INTO diccionario_json (maya,espanol) VALUES(%s,%s)\"\u001b[0m\u001b[0;34m\u001b[0m\u001b[0;34m\u001b[0m\u001b[0m\n\u001b[0;32m---> 23\u001b[0;31m   \u001b[0mcursor\u001b[0m\u001b[0;34m.\u001b[0m\u001b[0mexecute\u001b[0m\u001b[0;34m(\u001b[0m\u001b[0minsert_query\u001b[0m\u001b[0;34m,\u001b[0m \u001b[0;34m(\u001b[0m\u001b[0mmaya\u001b[0m\u001b[0;34m,\u001b[0m\u001b[0mespanol\u001b[0m\u001b[0;34m)\u001b[0m\u001b[0;34m)\u001b[0m\u001b[0;34m\u001b[0m\u001b[0;34m\u001b[0m\u001b[0m\n\u001b[0m\u001b[1;32m     24\u001b[0m \u001b[0;34m\u001b[0m\u001b[0m\n\u001b[1;32m     25\u001b[0m \u001b[0mconn\u001b[0m\u001b[0;34m.\u001b[0m\u001b[0mcommit\u001b[0m\u001b[0;34m(\u001b[0m\u001b[0;34m)\u001b[0m\u001b[0;34m\u001b[0m\u001b[0;34m\u001b[0m\u001b[0m\n",
            "\u001b[0;32m/usr/local/lib/python3.10/dist-packages/mysql/connector/cursor.py\u001b[0m in \u001b[0;36mexecute\u001b[0;34m(self, operation, params, multi)\u001b[0m\n\u001b[1;32m    549\u001b[0m         \u001b[0;32melse\u001b[0m\u001b[0;34m:\u001b[0m\u001b[0;34m\u001b[0m\u001b[0;34m\u001b[0m\u001b[0m\n\u001b[1;32m    550\u001b[0m             \u001b[0;32mtry\u001b[0m\u001b[0;34m:\u001b[0m\u001b[0;34m\u001b[0m\u001b[0;34m\u001b[0m\u001b[0m\n\u001b[0;32m--> 551\u001b[0;31m                 \u001b[0mself\u001b[0m\u001b[0;34m.\u001b[0m\u001b[0m_handle_result\u001b[0m\u001b[0;34m(\u001b[0m\u001b[0mself\u001b[0m\u001b[0;34m.\u001b[0m\u001b[0m_connection\u001b[0m\u001b[0;34m.\u001b[0m\u001b[0mcmd_query\u001b[0m\u001b[0;34m(\u001b[0m\u001b[0mstmt\u001b[0m\u001b[0;34m)\u001b[0m\u001b[0;34m)\u001b[0m\u001b[0;34m\u001b[0m\u001b[0;34m\u001b[0m\u001b[0m\n\u001b[0m\u001b[1;32m    552\u001b[0m             \u001b[0;32mexcept\u001b[0m \u001b[0merrors\u001b[0m\u001b[0;34m.\u001b[0m\u001b[0mInterfaceError\u001b[0m\u001b[0;34m:\u001b[0m\u001b[0;34m\u001b[0m\u001b[0;34m\u001b[0m\u001b[0m\n\u001b[1;32m    553\u001b[0m                 \u001b[0;32mif\u001b[0m \u001b[0mself\u001b[0m\u001b[0;34m.\u001b[0m\u001b[0m_connection\u001b[0m\u001b[0;34m.\u001b[0m\u001b[0m_have_next_result\u001b[0m\u001b[0;34m:\u001b[0m  \u001b[0;31m# pylint: disable=W0212\u001b[0m\u001b[0;34m\u001b[0m\u001b[0;34m\u001b[0m\u001b[0m\n",
            "\u001b[0;32m/usr/local/lib/python3.10/dist-packages/mysql/connector/connection.py\u001b[0m in \u001b[0;36mcmd_query\u001b[0;34m(self, query, raw, buffered, raw_as_string)\u001b[0m\n\u001b[1;32m    488\u001b[0m         \u001b[0;32mif\u001b[0m \u001b[0;32mnot\u001b[0m \u001b[0misinstance\u001b[0m\u001b[0;34m(\u001b[0m\u001b[0mquery\u001b[0m\u001b[0;34m,\u001b[0m \u001b[0mbytes\u001b[0m\u001b[0;34m)\u001b[0m\u001b[0;34m:\u001b[0m\u001b[0;34m\u001b[0m\u001b[0;34m\u001b[0m\u001b[0m\n\u001b[1;32m    489\u001b[0m             \u001b[0mquery\u001b[0m \u001b[0;34m=\u001b[0m \u001b[0mquery\u001b[0m\u001b[0;34m.\u001b[0m\u001b[0mencode\u001b[0m\u001b[0;34m(\u001b[0m\u001b[0;34m'utf-8'\u001b[0m\u001b[0;34m)\u001b[0m\u001b[0;34m\u001b[0m\u001b[0;34m\u001b[0m\u001b[0m\n\u001b[0;32m--> 490\u001b[0;31m         \u001b[0mresult\u001b[0m \u001b[0;34m=\u001b[0m \u001b[0mself\u001b[0m\u001b[0;34m.\u001b[0m\u001b[0m_handle_result\u001b[0m\u001b[0;34m(\u001b[0m\u001b[0mself\u001b[0m\u001b[0;34m.\u001b[0m\u001b[0m_send_cmd\u001b[0m\u001b[0;34m(\u001b[0m\u001b[0mServerCmd\u001b[0m\u001b[0;34m.\u001b[0m\u001b[0mQUERY\u001b[0m\u001b[0;34m,\u001b[0m \u001b[0mquery\u001b[0m\u001b[0;34m)\u001b[0m\u001b[0;34m)\u001b[0m\u001b[0;34m\u001b[0m\u001b[0;34m\u001b[0m\u001b[0m\n\u001b[0m\u001b[1;32m    491\u001b[0m \u001b[0;34m\u001b[0m\u001b[0m\n\u001b[1;32m    492\u001b[0m         \u001b[0;32mif\u001b[0m \u001b[0mself\u001b[0m\u001b[0;34m.\u001b[0m\u001b[0m_have_next_result\u001b[0m\u001b[0;34m:\u001b[0m\u001b[0;34m\u001b[0m\u001b[0;34m\u001b[0m\u001b[0m\n",
            "\u001b[0;32m/usr/local/lib/python3.10/dist-packages/mysql/connector/connection.py\u001b[0m in \u001b[0;36m_send_cmd\u001b[0;34m(self, command, argument, packet_number, packet, expect_response, compressed_packet_number)\u001b[0m\n\u001b[1;32m    265\u001b[0m         \u001b[0;32mif\u001b[0m \u001b[0;32mnot\u001b[0m \u001b[0mexpect_response\u001b[0m\u001b[0;34m:\u001b[0m\u001b[0;34m\u001b[0m\u001b[0;34m\u001b[0m\u001b[0m\n\u001b[1;32m    266\u001b[0m             \u001b[0;32mreturn\u001b[0m \u001b[0;32mNone\u001b[0m\u001b[0;34m\u001b[0m\u001b[0;34m\u001b[0m\u001b[0m\n\u001b[0;32m--> 267\u001b[0;31m         \u001b[0;32mreturn\u001b[0m \u001b[0mself\u001b[0m\u001b[0;34m.\u001b[0m\u001b[0m_socket\u001b[0m\u001b[0;34m.\u001b[0m\u001b[0mrecv\u001b[0m\u001b[0;34m(\u001b[0m\u001b[0;34m)\u001b[0m\u001b[0;34m\u001b[0m\u001b[0;34m\u001b[0m\u001b[0m\n\u001b[0m\u001b[1;32m    268\u001b[0m \u001b[0;34m\u001b[0m\u001b[0m\n\u001b[1;32m    269\u001b[0m     \u001b[0;32mdef\u001b[0m \u001b[0m_send_data\u001b[0m\u001b[0;34m(\u001b[0m\u001b[0mself\u001b[0m\u001b[0;34m,\u001b[0m \u001b[0mdata_file\u001b[0m\u001b[0;34m,\u001b[0m \u001b[0msend_empty_packet\u001b[0m\u001b[0;34m=\u001b[0m\u001b[0;32mFalse\u001b[0m\u001b[0;34m)\u001b[0m\u001b[0;34m:\u001b[0m\u001b[0;34m\u001b[0m\u001b[0;34m\u001b[0m\u001b[0m\n",
            "\u001b[0;32m/usr/local/lib/python3.10/dist-packages/mysql/connector/network.py\u001b[0m in \u001b[0;36mrecv_plain\u001b[0;34m(self)\u001b[0m\n\u001b[1;32m    239\u001b[0m             \u001b[0mpacket_len\u001b[0m \u001b[0;34m=\u001b[0m \u001b[0;36m0\u001b[0m\u001b[0;34m\u001b[0m\u001b[0;34m\u001b[0m\u001b[0m\n\u001b[1;32m    240\u001b[0m             \u001b[0;32mwhile\u001b[0m \u001b[0mpacket_len\u001b[0m \u001b[0;34m<\u001b[0m \u001b[0;36m4\u001b[0m\u001b[0;34m:\u001b[0m\u001b[0;34m\u001b[0m\u001b[0;34m\u001b[0m\u001b[0m\n\u001b[0;32m--> 241\u001b[0;31m                 \u001b[0mchunk\u001b[0m \u001b[0;34m=\u001b[0m \u001b[0mself\u001b[0m\u001b[0;34m.\u001b[0m\u001b[0msock\u001b[0m\u001b[0;34m.\u001b[0m\u001b[0mrecv\u001b[0m\u001b[0;34m(\u001b[0m\u001b[0;36m4\u001b[0m \u001b[0;34m-\u001b[0m \u001b[0mpacket_len\u001b[0m\u001b[0;34m)\u001b[0m\u001b[0;34m\u001b[0m\u001b[0;34m\u001b[0m\u001b[0m\n\u001b[0m\u001b[1;32m    242\u001b[0m                 \u001b[0;32mif\u001b[0m \u001b[0;32mnot\u001b[0m \u001b[0mchunk\u001b[0m\u001b[0;34m:\u001b[0m\u001b[0;34m\u001b[0m\u001b[0;34m\u001b[0m\u001b[0m\n\u001b[1;32m    243\u001b[0m                     \u001b[0;32mraise\u001b[0m \u001b[0merrors\u001b[0m\u001b[0;34m.\u001b[0m\u001b[0mInterfaceError\u001b[0m\u001b[0;34m(\u001b[0m\u001b[0merrno\u001b[0m\u001b[0;34m=\u001b[0m\u001b[0;36m2013\u001b[0m\u001b[0;34m)\u001b[0m\u001b[0;34m\u001b[0m\u001b[0;34m\u001b[0m\u001b[0m\n",
            "\u001b[0;31mKeyboardInterrupt\u001b[0m: "
          ]
        }
      ]
    }
  ]
}